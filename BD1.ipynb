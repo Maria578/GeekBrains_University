{
 "cells": [
  {
   "cell_type": "markdown",
   "metadata": {},
   "source": [
    "### Задание 1\n",
    "\n",
    "1. Залить в свою БД данные по продажам (часть таблицы Orders в csv, исходник здесь https://drive.google.com/drive/folders/1C3HqIJcABblKM2tz8vPGiXTFT7MisrML?usp=sharing )\n",
    "2. Проанализировать, какой период данных выгружен\n",
    "3. Посчитать кол-во строк, кол-во заказов и кол-во уникальных пользователей, кот совершали заказы.\n",
    "4. По годам посчитать средний чек, среднее кол-во заказов на пользователя, сделать вывод , как изменялись это показатели Год от года.\n",
    "5. Найти кол-во пользователей, кот покупали в одном году и перестали покупать в следующем.\n",
    "6. Найти ID самого активного по кол-ву покупок пользователя."
   ]
  },
  {
   "cell_type": "code",
   "execution_count": 100,
   "metadata": {},
   "outputs": [],
   "source": [
    "import pandas as pd\n",
    "import matplotlib.pyplot as plt "
   ]
  },
  {
   "cell_type": "code",
   "execution_count": 2,
   "metadata": {},
   "outputs": [],
   "source": [
    "df = pd.read_csv('orders_all.csv', sep = \";\")"
   ]
  },
  {
   "cell_type": "code",
   "execution_count": 3,
   "metadata": {},
   "outputs": [
    {
     "data": {
      "text/html": [
       "<div>\n",
       "<style scoped>\n",
       "    .dataframe tbody tr th:only-of-type {\n",
       "        vertical-align: middle;\n",
       "    }\n",
       "\n",
       "    .dataframe tbody tr th {\n",
       "        vertical-align: top;\n",
       "    }\n",
       "\n",
       "    .dataframe thead th {\n",
       "        text-align: right;\n",
       "    }\n",
       "</style>\n",
       "<table border=\"1\" class=\"dataframe\">\n",
       "  <thead>\n",
       "    <tr style=\"text-align: right;\">\n",
       "      <th></th>\n",
       "      <th>id_order</th>\n",
       "      <th>id_user</th>\n",
       "      <th>price</th>\n",
       "      <th>o_date</th>\n",
       "    </tr>\n",
       "  </thead>\n",
       "  <tbody>\n",
       "    <tr>\n",
       "      <th>0</th>\n",
       "      <td>129</td>\n",
       "      <td>1</td>\n",
       "      <td>1337</td>\n",
       "      <td>26.04.2013</td>\n",
       "    </tr>\n",
       "    <tr>\n",
       "      <th>1</th>\n",
       "      <td>130</td>\n",
       "      <td>155</td>\n",
       "      <td>182</td>\n",
       "      <td>26.04.2013</td>\n",
       "    </tr>\n",
       "    <tr>\n",
       "      <th>2</th>\n",
       "      <td>131</td>\n",
       "      <td>1</td>\n",
       "      <td>602</td>\n",
       "      <td>26.04.2013</td>\n",
       "    </tr>\n",
       "    <tr>\n",
       "      <th>3</th>\n",
       "      <td>132</td>\n",
       "      <td>1</td>\n",
       "      <td>863</td>\n",
       "      <td>26.04.2013</td>\n",
       "    </tr>\n",
       "    <tr>\n",
       "      <th>4</th>\n",
       "      <td>133</td>\n",
       "      <td>1</td>\n",
       "      <td>2261</td>\n",
       "      <td>29.04.2013</td>\n",
       "    </tr>\n",
       "    <tr>\n",
       "      <th>...</th>\n",
       "      <td>...</td>\n",
       "      <td>...</td>\n",
       "      <td>...</td>\n",
       "      <td>...</td>\n",
       "    </tr>\n",
       "    <tr>\n",
       "      <th>4365726</th>\n",
       "      <td>16836178</td>\n",
       "      <td>4285099</td>\n",
       "      <td>0</td>\n",
       "      <td>00.00.0000</td>\n",
       "    </tr>\n",
       "    <tr>\n",
       "      <th>4365727</th>\n",
       "      <td>16839826</td>\n",
       "      <td>4285099</td>\n",
       "      <td>0</td>\n",
       "      <td>00.00.0000</td>\n",
       "    </tr>\n",
       "    <tr>\n",
       "      <th>4365728</th>\n",
       "      <td>16885534</td>\n",
       "      <td>4285099</td>\n",
       "      <td>0</td>\n",
       "      <td>00.00.0000</td>\n",
       "    </tr>\n",
       "    <tr>\n",
       "      <th>4365729</th>\n",
       "      <td>16955236</td>\n",
       "      <td>3764611</td>\n",
       "      <td>0</td>\n",
       "      <td>00.00.0000</td>\n",
       "    </tr>\n",
       "    <tr>\n",
       "      <th>4365730</th>\n",
       "      <td>16970584</td>\n",
       "      <td>3764611</td>\n",
       "      <td>0</td>\n",
       "      <td>00.00.0000</td>\n",
       "    </tr>\n",
       "  </tbody>\n",
       "</table>\n",
       "<p>4365731 rows × 4 columns</p>\n",
       "</div>"
      ],
      "text/plain": [
       "         id_order  id_user  price      o_date\n",
       "0             129        1   1337  26.04.2013\n",
       "1             130      155    182  26.04.2013\n",
       "2             131        1    602  26.04.2013\n",
       "3             132        1    863  26.04.2013\n",
       "4             133        1   2261  29.04.2013\n",
       "...           ...      ...    ...         ...\n",
       "4365726  16836178  4285099      0  00.00.0000\n",
       "4365727  16839826  4285099      0  00.00.0000\n",
       "4365728  16885534  4285099      0  00.00.0000\n",
       "4365729  16955236  3764611      0  00.00.0000\n",
       "4365730  16970584  3764611      0  00.00.0000\n",
       "\n",
       "[4365731 rows x 4 columns]"
      ]
     },
     "execution_count": 3,
     "metadata": {},
     "output_type": "execute_result"
    }
   ],
   "source": [
    "df.head(5)"
   ]
  },
  {
   "cell_type": "code",
   "execution_count": 24,
   "metadata": {},
   "outputs": [],
   "source": [
    "a = df['o_date'][df['o_date'] !='00.00.0000'].min()\n",
    "b = df['o_date'].max()"
   ]
  },
  {
   "cell_type": "code",
   "execution_count": 25,
   "metadata": {},
   "outputs": [
    {
     "name": "stdout",
     "output_type": "stream",
     "text": [
      "Выгружен период с 01.01.2014 по 31.12.2017\n"
     ]
    }
   ],
   "source": [
    "# Проанализировать, какой период данных выгружен\n",
    "\n",
    "print(f'Выгружен период с {a} по {b}')"
   ]
  },
  {
   "cell_type": "code",
   "execution_count": 26,
   "metadata": {},
   "outputs": [
    {
     "data": {
      "text/plain": [
       "4365731"
      ]
     },
     "execution_count": 26,
     "metadata": {},
     "output_type": "execute_result"
    }
   ],
   "source": [
    "df.shape[0] #кол-во строк"
   ]
  },
  {
   "cell_type": "code",
   "execution_count": 30,
   "metadata": {
    "scrolled": true
   },
   "outputs": [
    {
     "data": {
      "text/plain": [
       "4365731"
      ]
     },
     "execution_count": 30,
     "metadata": {},
     "output_type": "execute_result"
    }
   ],
   "source": [
    "len(df[\"id_order\"].unique()) #количество заказов, включая нулевые"
   ]
  },
  {
   "cell_type": "code",
   "execution_count": 60,
   "metadata": {},
   "outputs": [],
   "source": [
    "df = df[df[\"price\"] !=0] #убираем строки с нулевой ценой"
   ]
  },
  {
   "cell_type": "code",
   "execution_count": 61,
   "metadata": {},
   "outputs": [
    {
     "data": {
      "text/plain": [
       "4310194"
      ]
     },
     "execution_count": 61,
     "metadata": {},
     "output_type": "execute_result"
    }
   ],
   "source": [
    "len(df[\"id_order\"].unique()) #количество заказов, исключая нулевые"
   ]
  },
  {
   "cell_type": "code",
   "execution_count": 39,
   "metadata": {
    "scrolled": true
   },
   "outputs": [
    {
     "data": {
      "text/plain": [
       "2146691"
      ]
     },
     "execution_count": 39,
     "metadata": {},
     "output_type": "execute_result"
    }
   ],
   "source": [
    "len(df[\"id_user\"].unique()) #кол-во уникальных пользователей, кот совершали заказы"
   ]
  },
  {
   "cell_type": "code",
   "execution_count": 65,
   "metadata": {},
   "outputs": [],
   "source": [
    "def year(s):\n",
    "    return s.split(\".\")[2]"
   ]
  },
  {
   "cell_type": "code",
   "execution_count": 67,
   "metadata": {
    "scrolled": true
   },
   "outputs": [],
   "source": [
    "df['year'] = df['o_date'].apply(year)"
   ]
  },
  {
   "cell_type": "code",
   "execution_count": 90,
   "metadata": {
    "scrolled": true
   },
   "outputs": [],
   "source": [
    "df = df[df['price']!= 7000000000000000] #удаляем выброс в 2013 году"
   ]
  },
  {
   "cell_type": "code",
   "execution_count": 101,
   "metadata": {},
   "outputs": [],
   "source": [
    "av_bill = df['price'].groupby(df[\"year\"]).sum() / df['id_order'].groupby(df[\"year\"]).count() #средний чек по годам"
   ]
  },
  {
   "cell_type": "code",
   "execution_count": 102,
   "metadata": {},
   "outputs": [
    {
     "data": {
      "text/plain": [
       "year\n",
       "2013    2197.788111\n",
       "2014    2287.713696\n",
       "2015    2018.174961\n",
       "2016    2096.035295\n",
       "2017    2398.829497\n",
       "2018    2302.788797\n",
       "dtype: float64"
      ]
     },
     "execution_count": 102,
     "metadata": {},
     "output_type": "execute_result"
    }
   ],
   "source": [
    "av_bill"
   ]
  },
  {
   "cell_type": "code",
   "execution_count": 103,
   "metadata": {},
   "outputs": [
    {
     "data": {
      "text/plain": [
       "Text(0.5, 1.0, 'Uncorrelated Random Signal \\\\mu to generate x')"
      ]
     },
     "execution_count": 103,
     "metadata": {},
     "output_type": "execute_result"
    },
    {
     "data": {
      "image/png": "[encoded data removed]",
      "text/plain": [
       "<Figure size 432x288 with 1 Axes>"
      ]
     },
     "metadata": {
      "needs_background": "light"
     },
     "output_type": "display_data"
    }
   ],
   "source": [
    "plt.plot(av_bill)\n",
    "plt.ylabel(\"Average bill, rub\")\n",
    "plt.xlabel(\"Year\")\n",
    "plt.title('Uncorrelated Random Signal \\mu to generate x')"
   ]
  },
  {
   "cell_type": "code",
   "execution_count": null,
   "metadata": {},
   "outputs": [],
   "source": []
  },
  {
   "cell_type": "code",
   "execution_count": 97,
   "metadata": {},
   "outputs": [
    {
     "data": {
      "text/plain": [
       "year\n",
       "2013    1.281316\n",
       "2014    1.495294\n",
       "2015    1.912758\n",
       "2016    1.935134\n",
       "2017    1.742967\n",
       "2018    1.624699\n",
       "dtype: float64"
      ]
     },
     "execution_count": 97,
     "metadata": {},
     "output_type": "execute_result"
    }
   ],
   "source": [
    "df['id_order'].groupby(df[\"year\"]).count() /df['id_user'].groupby(df[\"year\"]).nunique() #среднее кол-во заказов на пользователя"
   ]
  },
  {
   "cell_type": "code",
   "execution_count": 99,
   "metadata": {},
   "outputs": [
    {
     "data": {
      "text/plain": [
       "id_user\n",
       "39506    26878775\n",
       "Name: price, dtype: int64"
      ]
     },
     "execution_count": 99,
     "metadata": {},
     "output_type": "execute_result"
    }
   ],
   "source": [
    "df['price'].groupby(df[\"id_user\"]).sum().nlargest(1) # ID самого активного по кол-ву покупок пользователя (по сумме денег)"
   ]
  },
  {
   "cell_type": "code",
   "execution_count": null,
   "metadata": {},
   "outputs": [],
   "source": []
  }
 ],
 "metadata": {
  "kernelspec": {
   "display_name": "Python 3",
   "language": "python",
   "name": "python3"
  },
  "language_info": {
   "codemirror_mode": {
    "name": "ipython",
    "version": 3
   },
   "file_extension": ".py",
   "mimetype": "text/x-python",
   "name": "python",
   "nbconvert_exporter": "python",
   "pygments_lexer": "ipython3",
   "version": "3.7.6"
  }
 },
 "nbformat": 4,
 "nbformat_minor": 4
}
